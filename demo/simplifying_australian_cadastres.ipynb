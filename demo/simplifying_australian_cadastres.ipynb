{
 "cells": [
  {
   "cell_type": "markdown",
   "id": "a5b6cdb1",
   "metadata": {},
   "source": [
    "# Simplifyng parcels in each Australian states\n",
    "\n",
    "Different Australian states offer cadastral datasets in different formats and varying complexities. The approach to handling these datasets is therefore different for certain states. Here, we show an example of simplifying parcels for a Statistical Area 1 in each Australian state "
   ]
  },
  {
   "cell_type": "code",
   "execution_count": null,
   "id": "e8a46968",
   "metadata": {},
   "outputs": [],
   "source": [
    "# Import modules\n",
    "import os\n",
    "import geopandas as gpd\n",
    "import pandas as pd\n",
    "import dask_geopandas\n",
    "\n",
    "module_path = \"/home/jovyan/work\"\n",
    "import sys\n",
    "sys.path.append(module_path)\n",
    "from cadpy_class import cadpy\n",
    "\n",
    "os.chdir(\"/home/jovyan/data\")"
   ]
  },
  {
   "cell_type": "markdown",
   "id": "3cb4bca5",
   "metadata": {},
   "source": [
    "## Melboure, Sydney, Perth \n",
    "\n",
    "The `simplify_cadastre` function works well without any pre-processing for Melbourne, Sydney, and Perth."
   ]
  },
  {
   "cell_type": "markdown",
   "id": "6fa53057",
   "metadata": {},
   "source": [
    "#### Melbourne - Melbourne City"
   ]
  },
  {
   "cell_type": "code",
   "execution_count": null,
   "id": "e812eecd",
   "metadata": {},
   "outputs": [],
   "source": [
    "# Set path to cadastral data\n",
    "cad_path = os.path.join(os.getcwd(), \"raw_data\", \"australia\", \"melbourne\", \"cadastre\", \"202302_PROPERTY_VIEW.shp\")\n",
    "\n",
    "# Set path to AOI \n",
    "aoi_path = os.path.join(os.getcwd(), \"raw_data\", \"australia\", \"melbourne\", \"sa3\", \"melbourne-city.gpkg\")\n",
    "\n",
    "# Load data\n",
    "npartitions = 8\n",
    "ddf_cad = dask_geopandas.read_file(cad_path, npartitions = npartitions)\n",
    "aoi = gpd.read_file(aoi_path)\n",
    "\n",
    "cad = cadpy.dask_within_operation(ddf_cad, aoi)\n",
    "\n",
    "cad[[\"PFI\", \"geometry\"]].explore(style_kwds = {\"weight\":0.5})"
   ]
  },
  {
   "cell_type": "code",
   "execution_count": null,
   "id": "e098e1ed",
   "metadata": {},
   "outputs": [],
   "source": [
    "cad.to_file(os.path.join(os.getcwd(), \"raw_data\", \"australia\", \"melbourne\", \"cadastre\", \"cad_melbourne-city.gpkg\"))"
   ]
  },
  {
   "cell_type": "markdown",
   "id": "af8212a2",
   "metadata": {},
   "source": [
    "#### Melbourne - Melbourne City simplified"
   ]
  },
  {
   "cell_type": "code",
   "execution_count": null,
   "id": "36b894b6",
   "metadata": {},
   "outputs": [],
   "source": [
    "c = cadpy(\n",
    "    gdf = cad[[\"PFI\", \"geometry\"]], \n",
    "    pin = \"PFI\", \n",
    "    proj_crs = \"EPSG:7855\")\n",
    "\n",
    "simplified_cad = c.simplify_cadastre()\n",
    "\n",
    "simplified_cad[[\"PFI\", \"merged_pin\", \"geometry\"]].explore(style_kwds = {\"weight\":0.5})"
   ]
  },
  {
   "cell_type": "code",
   "execution_count": null,
   "id": "75190752",
   "metadata": {},
   "outputs": [],
   "source": [
    "simplified_cad.to_file(os.path.join(os.getcwd(), \"raw_data\", \"australia\", \"melbourne\", \"cadastre\", \"cad_simplified_melbourne-city.gpkg\"))"
   ]
  },
  {
   "cell_type": "markdown",
   "id": "9ae4a7cc",
   "metadata": {},
   "source": [
    "#### Sydney - Sydey Inner City"
   ]
  },
  {
   "cell_type": "code",
   "execution_count": null,
   "id": "ec31ee0a",
   "metadata": {},
   "outputs": [],
   "source": [
    "# Set path to cadastral data\n",
    "cad_path = os.path.join(os.getcwd(), \"raw_data\", \"australia\", \"sydney\", \"cadastre\", \"lot_m_epsg7844_2023-03-31.gpkg\")\n",
    "\n",
    "# Set path to AOI \n",
    "aoi_path = os.path.join(os.getcwd(), \"raw_data\", \"australia\", \"sydney\", \"sa3\", \"sydney-inner-city.gpkg\")\n",
    "\n",
    "# Load data\n",
    "npartitions = 8\n",
    "ddf_cad = dask_geopandas.read_file(cad_path, npartitions = npartitions)\n",
    "aoi = gpd.read_file(aoi_path)\n",
    "\n",
    "cad = cadpy.dask_within_operation(ddf_cad, aoi)\n",
    "\n",
    "cad[[\"cadid\", \"geometry\"]].explore(style_kwds = {\"weight\":0.5})"
   ]
  },
  {
   "cell_type": "markdown",
   "id": "5e076872",
   "metadata": {},
   "source": [
    "#### Sydney - Sydner Inner City simplified"
   ]
  },
  {
   "cell_type": "code",
   "execution_count": null,
   "id": "329781a5",
   "metadata": {},
   "outputs": [],
   "source": [
    "c = cadpy(\n",
    "    gdf = cad[[\"cadid\", \"geometry\"]], \n",
    "    pin = \"cadid\", \n",
    "    proj_crs = \"EPSG:7856\")\n",
    "\n",
    "simplified_cad = c.simplify_cadastre()\n",
    "\n",
    "simplified_cad[[\"cadid\", \"merged_pin\", \"geometry\"]].explore(style_kwds = {\"weight\":0.5})"
   ]
  },
  {
   "cell_type": "markdown",
   "id": "2c033da2",
   "metadata": {},
   "source": [
    "#### Perth - Perth City"
   ]
  },
  {
   "cell_type": "code",
   "execution_count": null,
   "id": "f10ec390",
   "metadata": {},
   "outputs": [],
   "source": [
    "# Set path to cadastral data\n",
    "cad_path = os.path.join(os.getcwd(), \"raw_data\", \"australia\", \"perth\", \"cadastre\", \"Historical_Cadastre_2023_Polygon_LGATE_476.shp\")\n",
    "\n",
    "# Set path to AOI \n",
    "aoi_path = os.path.join(os.getcwd(), \"raw_data\", \"australia\", \"perth\", \"sa3\", \"perth-city.gpkg\")\n",
    "\n",
    "# Load data\n",
    "npartitions = 8\n",
    "ddf_cad = dask_geopandas.read_file(cad_path, npartitions = npartitions)\n",
    "aoi = gpd.read_file(aoi_path)\n",
    "\n",
    "cad = cadpy.dask_within_operation(ddf_cad, aoi)\n",
    "\n",
    "cad[[\"polygon_nu\", \"geometry\"]].explore(style_kwds = {\"weight\":0.5})"
   ]
  },
  {
   "cell_type": "markdown",
   "id": "ebc24bf7",
   "metadata": {},
   "source": [
    "#### Perth - Perth City simplified\n",
    "For Perth cadastral dataset, we need to filter out road and easement parcels"
   ]
  },
  {
   "cell_type": "code",
   "execution_count": null,
   "id": "f4fb1621",
   "metadata": {},
   "outputs": [],
   "source": [
    "# Drop road and easement parcels\n",
    "cad = cad[~cad[\"land_type\"].isin([\"ROAD\", \"EASMT\"])]\n",
    "\n",
    "\n",
    "c = cadpy(\n",
    "    gdf = cad[[\"polygon_nu\", \"geometry\"]], \n",
    "    pin = \"polygon_nu\", \n",
    "    proj_crs = \"EPSG:7850\")\n",
    "\n",
    "simplified_cad = c.simplify_cadastre()\n",
    "\n",
    "simplified_cad[[\"polygon_nu\", \"merged_pin\", \"geometry\"]].explore(style_kwds = {\"weight\":0.5})"
   ]
  },
  {
   "cell_type": "markdown",
   "id": "c3a0ebdf",
   "metadata": {},
   "source": [
    "## Adelaide"
   ]
  },
  {
   "cell_type": "markdown",
   "id": "1a624b67",
   "metadata": {},
   "source": [
    "Adelaide parcels need some pre-processing before simplification. From the example below, there are certain parcels that have several overlapping parcels on top of each other in a very complicated manner that our regular `simplify_function` can not simplify.  "
   ]
  },
  {
   "cell_type": "code",
   "execution_count": null,
   "id": "3bcb7dda",
   "metadata": {},
   "outputs": [],
   "source": [
    "# Set path to cadastral data\n",
    "cad_path = os.path.join(os.getcwd(), \"raw_data\", \"australia\", \"adelaide\", \"cadastre\", \"adelaide-city-eg.gpkg\")\n",
    "\n",
    "cad = gpd.read_file(cad_path)\n",
    "\n",
    "cad[[\"OBJECTID\", \"geometry\"]].explore()"
   ]
  },
  {
   "cell_type": "markdown",
   "id": "b59ae339",
   "metadata": {},
   "source": [
    "These patches of untidy parcels can be separated by selecting only the parcels with attribute, \"Plan_T\" (Plan type) = S (Strata Plan) or C (Community Plan). Once the problematic patches have been separated, we can dissolve them by \"plan\" and \"volume\" columns"
   ]
  },
  {
   "cell_type": "code",
   "execution_count": null,
   "id": "6c28f151",
   "metadata": {},
   "outputs": [],
   "source": [
    "# Filter the rows where plan_t is \"C\" or \"S\"\n",
    "cad_dissolve = cad[(cad[\"plan_t\"] == \"C\") | (cad[\"plan_t\"] == \"S\")]\n",
    "\n",
    "# Dissolve by plan\n",
    "cad_dissolve = cad_dissolve.dissolve(by = \"plan\")\n",
    "\n",
    "# Dissolve by volume\n",
    "cad_dissolve = cad_dissolve.dissolve(by = \"volume\")\n",
    "\n",
    "# Keep the rest of the parcels (not \"C\" or \"S\")\n",
    "cad_remaining = cad[~(cad[\"plan_t\"] == \"C\") | (cad[\"plan_t\"] == \"S\")]\n",
    "\n",
    "# Concatenate the dissolved and remaining data\n",
    "processed_cad = pd.concat([cad_remaining, cad_dissolve]).reset_index(drop=True)\n",
    "\n",
    "processed_cad.explore()"
   ]
  },
  {
   "cell_type": "markdown",
   "id": "5c586f61",
   "metadata": {},
   "source": [
    "Then use our good old`simplify_cadastre` function!"
   ]
  },
  {
   "cell_type": "code",
   "execution_count": null,
   "id": "52ecdb9b",
   "metadata": {},
   "outputs": [],
   "source": [
    "# Simplify\n",
    "c = cadpy(\n",
    "    gdf = processed_cad[[\"OBJECTID\", \"geometry\"]], \n",
    "    pin = \"OBJECTID\", \n",
    "    proj_crs = \"EPSG:7854\")\n",
    "\n",
    "simplified_cad = c.simplify_cadastre()\n",
    "\n",
    "simplified_cad[[\"OBJECTID\", \"merged_pin\", \"geometry\"]].explore(style_kwds = {\"weight\":0.5})"
   ]
  },
  {
   "cell_type": "markdown",
   "id": "1035d036",
   "metadata": {},
   "source": [
    "#### Adelaide - Adelaide City"
   ]
  },
  {
   "cell_type": "code",
   "execution_count": null,
   "id": "ad22813a",
   "metadata": {
    "scrolled": false
   },
   "outputs": [],
   "source": [
    "# Set path to cadastral data\n",
    "cad_path = os.path.join(os.getcwd(), \"raw_data\", \"australia\", \"adelaide\", \"cadastre\", \"2023_sa_parcel_cadastre.shp\")\n",
    "\n",
    "# Set path to AOI \n",
    "aoi_path = os.path.join(os.getcwd(), \"raw_data\", \"australia\", \"adelaide\", \"sa3\", \"adelaide-city.gpkg\")\n",
    "\n",
    "# Load data\n",
    "npartitions = 8\n",
    "ddf_cad = dask_geopandas.read_file(cad_path, npartitions = npartitions)\n",
    "aoi = gpd.read_file(aoi_path)\n",
    "\n",
    "cad = cadpy.dask_within_operation(ddf_cad, aoi)\n",
    "\n",
    "cad[[\"OBJECTID\", \"geometry\"]].explore(style_kwds = {\"weight\":0.5})"
   ]
  },
  {
   "cell_type": "markdown",
   "id": "27785da4",
   "metadata": {},
   "source": [
    "#### Adelaide - Adelaide City simplified"
   ]
  },
  {
   "cell_type": "code",
   "execution_count": null,
   "id": "bb0ec6de",
   "metadata": {},
   "outputs": [],
   "source": [
    "# Filter the rows where plan_t is \"C\" or \"S\"\n",
    "cad_dissolve = cad[(cad[\"plan_t\"] == \"C\") | (cad[\"plan_t\"] == \"S\")]\n",
    "\n",
    "# Dissolve by plan\n",
    "cad_dissolve = cad_dissolve.dissolve(by = \"plan\")\n",
    "\n",
    "# Dissolve by volume\n",
    "cad_dissolve = cad_dissolve.dissolve(by = \"volume\")\n",
    "\n",
    "# Keep the rest of the parcels (not \"C\" or \"S\")\n",
    "cad_remaining = cad[~(cad[\"plan_t\"] == \"C\") | (cad[\"plan_t\"] == \"S\")]\n",
    "\n",
    "# Concatenate the dissolved and remaining data\n",
    "processed_cad = pd.concat([cad_remaining, cad_dissolve]).reset_index(drop=True)\n",
    "\n",
    "# Simplify\n",
    "c = cadpy(\n",
    "    gdf = processed_cad[[\"OBJECTID\", \"geometry\"]], \n",
    "    pin = \"OBJECTID\", \n",
    "    proj_crs = \"EPSG:7854\")\n",
    "\n",
    "simplified_cad = c.simplify_cadastre()\n",
    "\n",
    "simplified_cad[[\"OBJECTID\", \"merged_pin\", \"geometry\"]].explore(style_kwds = {\"weight\":0.5})"
   ]
  },
  {
   "cell_type": "markdown",
   "id": "8e156a6f",
   "metadata": {},
   "source": [
    "## Brisbane"
   ]
  },
  {
   "cell_type": "markdown",
   "id": "1c4b86f5",
   "metadata": {},
   "source": [
    "Brisbane parcels also require a pre-processing step before the simplification process. If you look carefully at the example below, the parcels that are supposed to form the parcel boundary are split into two. Fortunately, these pairs can be merged by an attribute in the dataset, \"lotplan\". "
   ]
  },
  {
   "cell_type": "code",
   "execution_count": null,
   "id": "cf4ccd72",
   "metadata": {},
   "outputs": [],
   "source": [
    "# Set path to cadastral data\n",
    "cad_path = (os.path.join(os.getcwd(), \"raw_data\", \"australia\", \"brisbane\", \"cadastre\", \"cad_simplify_eg.gpkg\"))\n",
    "\n",
    "cad = gpd.read_file(cad_path)\n",
    "# cad[[\"pin\", \"geometry\", \"lotplan\"]].explore()\n",
    "\n",
    "cad[[\"pin\", \"geometry\", \"lotplan\"]].explore(column=\"lotplan\")"
   ]
  },
  {
   "cell_type": "markdown",
   "id": "03243f33",
   "metadata": {},
   "source": [
    "When we merge the parcels by \"lotplan\" attribute, we get parcels that enclose other building-footprint-like parcels, allowing for the simplification process. "
   ]
  },
  {
   "cell_type": "code",
   "execution_count": null,
   "id": "031b93d4",
   "metadata": {
    "scrolled": false
   },
   "outputs": [],
   "source": [
    "c = cadpy(\n",
    "    gdf = cad[[\"pin\", \"geometry\", \"lotplan\"]], \n",
    "    pin = \"pin\", \n",
    "    proj_crs = \"EPSG:7856\")\n",
    "\n",
    "cad_merge_lotplan = c.merge_by_attribute(c.gdf, \"lotplan\")\n",
    "cad_merge_lotplan.explore()"
   ]
  },
  {
   "cell_type": "markdown",
   "id": "71f21375",
   "metadata": {},
   "source": [
    "Now that the smaller parcels are enclosed, we can finish with the `simplify_cadastre` function"
   ]
  },
  {
   "cell_type": "code",
   "execution_count": null,
   "id": "baf65b0e",
   "metadata": {},
   "outputs": [],
   "source": [
    "c = cadpy(\n",
    "    gdf = cad_merge_lotplan, \n",
    "    pin = \"pin\", \n",
    "    proj_crs = \"EPSG:7856\")\n",
    "\n",
    "simplified_cad = c.simplify_cadastre()\n",
    "\n",
    "simplified_cad.explore()"
   ]
  },
  {
   "cell_type": "markdown",
   "id": "6c80d59a",
   "metadata": {},
   "source": [
    "#### Brisbane - Brisbane Inner"
   ]
  },
  {
   "cell_type": "markdown",
   "id": "76997c02",
   "metadata": {},
   "source": [
    "To make things easier, we've included a flag for merging a specified attribute before simplification."
   ]
  },
  {
   "cell_type": "code",
   "execution_count": null,
   "id": "495e22b7",
   "metadata": {},
   "outputs": [],
   "source": [
    "# Set path to cadastral data\n",
    "cad_path = os.path.join(os.getcwd(), \"raw_data\", \"australia\", \"brisbane\", \"cadastre\", \"Brisbane2023_pin.shp\")\n",
    "\n",
    "# Set path to AOI \n",
    "aoi_path = os.path.join(os.getcwd(), \"raw_data\", \"australia\", \"brisbane\", \"sa3\", \"brisbane-inner.gpkg\")\n",
    "\n",
    "# Load data\n",
    "npartitions = 8\n",
    "ddf_cad = dask_geopandas.read_file(cad_path, npartitions = npartitions)\n",
    "aoi = gpd.read_file(aoi_path)\n",
    "\n",
    "cad = cadpy.dask_within_operation(ddf_cad, aoi)\n",
    "\n",
    "cad[[\"pin\", \"geometry\"]].explore(style_kwds = {\"weight\":0.5})"
   ]
  },
  {
   "cell_type": "markdown",
   "id": "1d0b044f",
   "metadata": {},
   "source": [
    "#### Brisbane - Brisbane Inner simplified"
   ]
  },
  {
   "cell_type": "code",
   "execution_count": null,
   "id": "a9bd881e",
   "metadata": {},
   "outputs": [],
   "source": [
    "# Filter lot-type parcels\n",
    "cad = cad[cad[\"parcel_typ\"] == \"Lot Type Parcel\"]\n",
    "\n",
    "c = cadpy(\n",
    "    gdf = cad[[\"pin\", \"geometry\", \"lotplan\"]], \n",
    "    pin = \"pin\", \n",
    "    proj_crs = \"EPSG:7856\")\n",
    "\n",
    "\n",
    "# Set the flag \"merge_by_attribute\" to true to Merge by \"lot_plan\" attribute before simplifying\n",
    "simplified_cad = c.simplify_cadastre(merge_by_attribute=True, attribute=\"lotplan\")\n",
    "\n",
    "simplified_cad[[\"pin\", \"merged_pin\", \"geometry\"]].explore(style_kwds = {\"weight\":0.5})"
   ]
  },
  {
   "cell_type": "code",
   "execution_count": null,
   "id": "d23d890e",
   "metadata": {},
   "outputs": [],
   "source": []
  }
 ],
 "metadata": {
  "kernelspec": {
   "display_name": "Python 3 (ipykernel)",
   "language": "python",
   "name": "python3"
  },
  "language_info": {
   "codemirror_mode": {
    "name": "ipython",
    "version": 3
   },
   "file_extension": ".py",
   "mimetype": "text/x-python",
   "name": "python",
   "nbconvert_exporter": "python",
   "pygments_lexer": "ipython3",
   "version": "3.10.11"
  }
 },
 "nbformat": 4,
 "nbformat_minor": 5
}
