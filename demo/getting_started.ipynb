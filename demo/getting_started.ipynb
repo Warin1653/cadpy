{
 "cells": [
  {
   "cell_type": "markdown",
   "id": "6e3f39d9",
   "metadata": {},
   "source": [
    "# Getting started\n",
    "\n",
    "Cadpy is a library for simplifying messy cadastral data into a form that is ready for analysis. It primarily uses the geometry of the polygons for processing, but also offers ways to interact with the cadastral properties that are stored within the data. \n",
    "\n",
    "Cadpy offers a range of functionalities including:\n",
    "\n",
    "- Flattening overlapping parcels that are within larger parcels or have duplicated geometries. \n",
    "- Merging building footprints with corresponding parcels\n",
    "- Filtering parcels within/intersecting an area of interest\n",
    "- Spatial join by largest intersection with other datasets"
   ]
  },
  {
   "cell_type": "code",
   "execution_count": 2,
   "id": "2e492e9f",
   "metadata": {},
   "outputs": [],
   "source": [
    "import os\n",
    "import geopandas as gpd\n",
    "import pandas as pd"
   ]
  },
  {
   "cell_type": "code",
   "execution_count": null,
   "id": "cfd8606e",
   "metadata": {},
   "outputs": [],
   "source": []
  }
 ],
 "metadata": {
  "kernelspec": {
   "display_name": "Python 3 (ipykernel)",
   "language": "python",
   "name": "python3"
  },
  "language_info": {
   "codemirror_mode": {
    "name": "ipython",
    "version": 3
   },
   "file_extension": ".py",
   "mimetype": "text/x-python",
   "name": "python",
   "nbconvert_exporter": "python",
   "pygments_lexer": "ipython3",
   "version": "3.10.11"
  }
 },
 "nbformat": 4,
 "nbformat_minor": 5
}
